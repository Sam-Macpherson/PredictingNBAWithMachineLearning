{
  "nbformat": 4,
  "nbformat_minor": 0,
  "metadata": {
    "colab": {
      "name": "Attempt2.ipynb",
      "provenance": []
    },
    "kernelspec": {
      "name": "python3",
      "display_name": "Python 3"
    }
  },
  "cells": [
    {
      "cell_type": "code",
      "metadata": {
        "id": "YDi6rM8nLV29",
        "colab_type": "code",
        "colab": {
          "base_uri": "https://localhost:8080/",
          "height": 1000
        },
        "outputId": "caf67c54-83df-4959-f497-04a279782455"
      },
      "source": [
        "import tensorflow as tf\n",
        "from tensorflow import keras\n",
        "\n",
        "# Helper libraries\n",
        "import pandas as pd\n",
        "import numpy as np\n",
        "import matplotlib.pyplot as plt\n",
        "from sklearn.model_selection import train_test_split\n",
        "\n",
        "train_url = 'https://raw.githubusercontent.com/Sam-Macpherson/PredictingNBAWithMachineLearning/master/data/training_examples_1997-2019.csv'\n",
        "\n",
        "data = pd.read_csv(train_url)\n",
        "train_data, test_data = train_test_split(data, test_size=0.2, random_state=42, shuffle=True)\n",
        "\n",
        "train_labels = train_data.pop('outcome')\n",
        "test_labels = test_data.pop('outcome')\n",
        "\n",
        "model = keras.Sequential([\n",
        "    keras.layers.Dense(50, activation='sigmoid', autocast=False),\n",
        "    keras.layers.Dense(2)\n",
        "])\n",
        "\n",
        "model.compile(optimizer='adam',\n",
        "              loss=tf.keras.losses.SparseCategoricalCrossentropy(from_logits=True),\n",
        "              metrics=['accuracy'])\n",
        "\n",
        "model.fit(train_data, train_labels, epochs=50)"
      ],
      "execution_count": 74,
      "outputs": [
        {
          "output_type": "stream",
          "text": [
            "Epoch 1/50\n",
            "17/17 [==============================] - 0s 1ms/step - loss: 0.7527 - accuracy: 0.4990\n",
            "Epoch 2/50\n",
            "17/17 [==============================] - 0s 1ms/step - loss: 0.6593 - accuracy: 0.6058\n",
            "Epoch 3/50\n",
            "17/17 [==============================] - 0s 1ms/step - loss: 0.6255 - accuracy: 0.7165\n",
            "Epoch 4/50\n",
            "17/17 [==============================] - 0s 1ms/step - loss: 0.6166 - accuracy: 0.6913\n",
            "Epoch 5/50\n",
            "17/17 [==============================] - 0s 1ms/step - loss: 0.6150 - accuracy: 0.6427\n",
            "Epoch 6/50\n",
            "17/17 [==============================] - 0s 2ms/step - loss: 0.6117 - accuracy: 0.6971\n",
            "Epoch 7/50\n",
            "17/17 [==============================] - 0s 1ms/step - loss: 0.5852 - accuracy: 0.7728\n",
            "Epoch 8/50\n",
            "17/17 [==============================] - 0s 1ms/step - loss: 0.5807 - accuracy: 0.7320\n",
            "Epoch 9/50\n",
            "17/17 [==============================] - 0s 1ms/step - loss: 0.6053 - accuracy: 0.6816\n",
            "Epoch 10/50\n",
            "17/17 [==============================] - 0s 1ms/step - loss: 0.5752 - accuracy: 0.7806\n",
            "Epoch 11/50\n",
            "17/17 [==============================] - 0s 1ms/step - loss: 0.5725 - accuracy: 0.7456\n",
            "Epoch 12/50\n",
            "17/17 [==============================] - 0s 2ms/step - loss: 0.6114 - accuracy: 0.6932\n",
            "Epoch 13/50\n",
            "17/17 [==============================] - 0s 1ms/step - loss: 0.5711 - accuracy: 0.7592\n",
            "Epoch 14/50\n",
            "17/17 [==============================] - 0s 1ms/step - loss: 0.5638 - accuracy: 0.7476\n",
            "Epoch 15/50\n",
            "17/17 [==============================] - 0s 2ms/step - loss: 0.5764 - accuracy: 0.7262\n",
            "Epoch 16/50\n",
            "17/17 [==============================] - 0s 1ms/step - loss: 0.5633 - accuracy: 0.7495\n",
            "Epoch 17/50\n",
            "17/17 [==============================] - 0s 1ms/step - loss: 0.5548 - accuracy: 0.7456\n",
            "Epoch 18/50\n",
            "17/17 [==============================] - 0s 1ms/step - loss: 0.5439 - accuracy: 0.7689\n",
            "Epoch 19/50\n",
            "17/17 [==============================] - 0s 1ms/step - loss: 0.5685 - accuracy: 0.7262\n",
            "Epoch 20/50\n",
            "17/17 [==============================] - 0s 1ms/step - loss: 0.5441 - accuracy: 0.7573\n",
            "Epoch 21/50\n",
            "17/17 [==============================] - 0s 1ms/step - loss: 0.5230 - accuracy: 0.7864\n",
            "Epoch 22/50\n",
            "17/17 [==============================] - 0s 1ms/step - loss: 0.5200 - accuracy: 0.7961\n",
            "Epoch 23/50\n",
            "17/17 [==============================] - 0s 1ms/step - loss: 0.5177 - accuracy: 0.7767\n",
            "Epoch 24/50\n",
            "17/17 [==============================] - 0s 1ms/step - loss: 0.5156 - accuracy: 0.7806\n",
            "Epoch 25/50\n",
            "17/17 [==============================] - 0s 2ms/step - loss: 0.5491 - accuracy: 0.7495\n",
            "Epoch 26/50\n",
            "17/17 [==============================] - 0s 1ms/step - loss: 0.5504 - accuracy: 0.7340\n",
            "Epoch 27/50\n",
            "17/17 [==============================] - 0s 1ms/step - loss: 0.4930 - accuracy: 0.8058\n",
            "Epoch 28/50\n",
            "17/17 [==============================] - 0s 1ms/step - loss: 0.5081 - accuracy: 0.7806\n",
            "Epoch 29/50\n",
            "17/17 [==============================] - 0s 1ms/step - loss: 0.4870 - accuracy: 0.7845\n",
            "Epoch 30/50\n",
            "17/17 [==============================] - 0s 2ms/step - loss: 0.4832 - accuracy: 0.8117\n",
            "Epoch 31/50\n",
            "17/17 [==============================] - 0s 1ms/step - loss: 0.4804 - accuracy: 0.8019\n",
            "Epoch 32/50\n",
            "17/17 [==============================] - 0s 1ms/step - loss: 0.4865 - accuracy: 0.8019\n",
            "Epoch 33/50\n",
            "17/17 [==============================] - 0s 1ms/step - loss: 0.4583 - accuracy: 0.8194\n",
            "Epoch 34/50\n",
            "17/17 [==============================] - 0s 1ms/step - loss: 0.4802 - accuracy: 0.7689\n",
            "Epoch 35/50\n",
            "17/17 [==============================] - 0s 1ms/step - loss: 0.4576 - accuracy: 0.7942\n",
            "Epoch 36/50\n",
            "17/17 [==============================] - 0s 1ms/step - loss: 0.4536 - accuracy: 0.8097\n",
            "Epoch 37/50\n",
            "17/17 [==============================] - 0s 1ms/step - loss: 0.4568 - accuracy: 0.8019\n",
            "Epoch 38/50\n",
            "17/17 [==============================] - 0s 1ms/step - loss: 0.4747 - accuracy: 0.8117\n",
            "Epoch 39/50\n",
            "17/17 [==============================] - 0s 1ms/step - loss: 0.4391 - accuracy: 0.8388\n",
            "Epoch 40/50\n",
            "17/17 [==============================] - 0s 1ms/step - loss: 0.4540 - accuracy: 0.8039\n",
            "Epoch 41/50\n",
            "17/17 [==============================] - 0s 1ms/step - loss: 0.4238 - accuracy: 0.8408\n",
            "Epoch 42/50\n",
            "17/17 [==============================] - 0s 1ms/step - loss: 0.4254 - accuracy: 0.8175\n",
            "Epoch 43/50\n",
            "17/17 [==============================] - 0s 1ms/step - loss: 0.5018 - accuracy: 0.7748\n",
            "Epoch 44/50\n",
            "17/17 [==============================] - 0s 1ms/step - loss: 0.4661 - accuracy: 0.8117\n",
            "Epoch 45/50\n",
            "17/17 [==============================] - 0s 1ms/step - loss: 0.4578 - accuracy: 0.8175\n",
            "Epoch 46/50\n",
            "17/17 [==============================] - 0s 1ms/step - loss: 0.4446 - accuracy: 0.8155\n",
            "Epoch 47/50\n",
            "17/17 [==============================] - 0s 1ms/step - loss: 0.4380 - accuracy: 0.8117\n",
            "Epoch 48/50\n",
            "17/17 [==============================] - 0s 1ms/step - loss: 0.4262 - accuracy: 0.8291\n",
            "Epoch 49/50\n",
            "17/17 [==============================] - 0s 1ms/step - loss: 0.4027 - accuracy: 0.8311\n",
            "Epoch 50/50\n",
            "17/17 [==============================] - 0s 2ms/step - loss: 0.4130 - accuracy: 0.8291\n"
          ],
          "name": "stdout"
        },
        {
          "output_type": "execute_result",
          "data": {
            "text/plain": [
              "<tensorflow.python.keras.callbacks.History at 0x7f425b7999e8>"
            ]
          },
          "metadata": {
            "tags": []
          },
          "execution_count": 74
        }
      ]
    },
    {
      "cell_type": "code",
      "metadata": {
        "id": "zjpdwoPxxHiS",
        "colab_type": "code",
        "colab": {
          "base_uri": "https://localhost:8080/",
          "height": 298
        },
        "outputId": "0f3567ec-3470-4278-a021-f5b1fcd77eab"
      },
      "source": [
        "test_loss, test_acc = model.evaluate(test_data, test_labels, verbose=2)\n",
        "probability_model = tf.keras.Sequential([model, \n",
        "                                         tf.keras.layers.Softmax()])\n",
        "predictions = probability_model.predict(test_data)\n",
        "\n",
        "probs = pd.Series([pred[1] for pred in predictions])\n",
        "\n",
        "probs.plot(kind='hist', bins=20, title='predicted probabilities')\n",
        "plt.show()"
      ],
      "execution_count": 75,
      "outputs": [
        {
          "output_type": "stream",
          "text": [
            "5/5 - 0s - loss: 0.3328 - accuracy: 0.8915\n"
          ],
          "name": "stdout"
        },
        {
          "output_type": "display_data",
          "data": {
            "image/png": "[encoded data removed]",
            "text/plain": [
              "<Figure size 432x288 with 1 Axes>"
            ]
          },
          "metadata": {
            "tags": [],
            "needs_background": "light"
          }
        }
      ]
    },
    {
      "cell_type": "code",
      "metadata": {
        "id": "QrS9yEptTziX",
        "colab_type": "code",
        "colab": {
          "base_uri": "https://localhost:8080/",
          "height": 175
        },
        "outputId": "9df28513-4c91-4dc0-ac32-98bb1a0a3e19"
      },
      "source": [
        "from sklearn.metrics import classification_report\n",
        "\n",
        "y_pred_bool = np.argmax(predictions, axis=1)\n",
        "\n",
        "print(classification_report(test_labels, y_pred_bool))"
      ],
      "execution_count": 76,
      "outputs": [
        {
          "output_type": "stream",
          "text": [
            "              precision    recall  f1-score   support\n",
            "\n",
            "           0       0.85      0.95      0.90        64\n",
            "           1       0.95      0.83      0.89        65\n",
            "\n",
            "    accuracy                           0.89       129\n",
            "   macro avg       0.90      0.89      0.89       129\n",
            "weighted avg       0.90      0.89      0.89       129\n",
            "\n"
          ],
          "name": "stdout"
        }
      ]
    },
    {
      "cell_type": "code",
      "metadata": {
        "id": "GSOO1iOXLygZ",
        "colab_type": "code",
        "colab": {
          "base_uri": "https://localhost:8080/",
          "height": 313
        },
        "outputId": "f0d9d3ad-fa5b-488d-e1d0-9f6a070e8452"
      },
      "source": [
        "from sklearn.metrics import roc_curve\n",
        "from sklearn import metrics\n",
        "\n",
        "fpr, tpr, _ = roc_curve(test_labels, probs)\n",
        "plt.plot(fpr, tpr)\n",
        "plt.title('ROC curve')\n",
        "plt.xlabel('false positive rate')\n",
        "plt.ylabel('true positive rate')\n",
        "plt.xlim(0,)\n",
        "plt.ylim(0,)\n",
        "plt.show()\n",
        "metrics.auc(fpr, tpr)"
      ],
      "execution_count": 77,
      "outputs": [
        {
          "output_type": "display_data",
          "data": {
            "image/png": "[encoded data removed]",
            "text/plain": [
              "<Figure size 432x288 with 1 Axes>"
            ]
          },
          "metadata": {
            "tags": [],
            "needs_background": "light"
          }
        },
        {
          "output_type": "execute_result",
          "data": {
            "text/plain": [
              "0.9639423076923077"
            ]
          },
          "metadata": {
            "tags": []
          },
          "execution_count": 77
        }
      ]
    }
  ]
}